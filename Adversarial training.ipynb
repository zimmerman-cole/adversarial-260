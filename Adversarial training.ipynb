{
 "cells": [
  {
   "cell_type": "markdown",
   "metadata": {},
   "source": [
    "# Imports, load data and trained target"
   ]
  },
  {
   "cell_type": "code",
   "execution_count": 28,
   "metadata": {},
   "outputs": [],
   "source": [
    "from mnist import MNIST\n",
    "import pickle as pkl\n",
    "\n",
    "# mndata = MNIST('D:/raw/')\n",
    "\n",
    "# X_train, y_train = mndata.load_training()\n",
    "# X_test, y_test = mndata.load_testing()\n",
    "\n"
   ]
  },
  {
   "cell_type": "code",
   "execution_count": 35,
   "metadata": {},
   "outputs": [
    {
     "name": "stdout",
     "output_type": "stream",
     "text": [
      "780\n",
      "935\n",
      "832\n",
      "810\n",
      "782\n",
      "692\n",
      "758\n",
      "828\n",
      "774\n",
      "809\n"
     ]
    },
    {
     "data": {
      "text/plain": [
       "((8000, 28, 28), (2000, 28, 28))"
      ]
     },
     "execution_count": 35,
     "metadata": {},
     "output_type": "execute_result"
    }
   ],
   "source": [
    "X_train = np.array(X_train).reshape(-1, 28, 28)\n",
    "X_test = np.array(X_test).reshape(-1, 28, 28)\n",
    "y_train = np.array(y_train)\n",
    "y_test = np.array(y_test)\n",
    "\n",
    "X_train.shape, X_test.shape\n",
    "\n",
    "idx_test2 = list()\n",
    "idx_test1 = list()\n",
    "for c in range(10):\n",
    "    idx_c = np.argwhere(y_test == c).squeeze()\n",
    "    idx_c2 = list(np.random.choice(idx_c, replace=False, size=200).astype(int))\n",
    "    \n",
    "    idx_c1 = set(list(idx_c)).difference(set(idx_c2))\n",
    "    print(len(idx_c1))\n",
    "    \n",
    "    idx_test2.extend(list(idx_c2))\n",
    "    idx_test1.extend(list(idx_c1))\n",
    "\n",
    "X_test2 = X_test[idx_test2]\n",
    "y_test2 = y_test[idx_test2]\n",
    "\n",
    "X_test1 = X_test[idx_test1]\n",
    "y_test1 = y_test[idx_test1]\n",
    "\n",
    "f = open('X_test2.p', 'wb')\n",
    "pkl.dump(X_test2, f)\n",
    "np.savetxt('y_test2.txt', y_test2)\n",
    "\n",
    "f = open('X_test1.p', 'wb')\n",
    "pkl.dump(X_test1, f)\n",
    "np.savetxt('y_test1.txt', y_test1)\n",
    "\n",
    "f = open('X_train.p', 'wb')\n",
    "pkl.dump(X_train, f)\n",
    "np.savetxt('y_train.txt', y_train)\n",
    "\n",
    "X_test1.shape, X_test2.shape"
   ]
  },
  {
   "cell_type": "code",
   "execution_count": 1,
   "metadata": {
    "code_folding": [
     21
    ]
   },
   "outputs": [],
   "source": [
    "import numpy as np\n",
    "import matplotlib.pyplot as plt\n",
    "from matplotlib import cm\n",
    "import sys\n",
    "import pickle as pkl\n",
    "\n",
    "import torch\n",
    "from torchvision import datasets, transforms\n",
    "from torch.utils.data.sampler import SubsetRandomSampler\n",
    "from torch.utils.data import DataLoader\n",
    "\n",
    "from foolbox.models import PyTorchModel\n",
    "from foolbox.criteria import Misclassification\n",
    "from foolbox.attacks import GradientSignAttack\n",
    "from foolbox.adversarial import Adversarial\n",
    "\n",
    "from src.network import load_target\n",
    "from src.utils import progress_bar\n",
    "\n",
    "from IPython.display import clear_output\n",
    "\n",
    "def load_train_data(root, batch_size, percent_train=0.8, shuffle=True):\n",
    "    train_data = datasets.MNIST(root=root, train=True, transform=transforms.ToTensor())\n",
    "    valid_data = datasets.MNIST(root=root, train=True, transform=transforms.ToTensor())\n",
    "    num_train = len(train_data)\n",
    "    \n",
    "    indices = list(range(num_train))\n",
    "    np.random.shuffle(indices)\n",
    "    split = int(percent_train * num_train)\n",
    "    train_idx, valid_idx = indices[:split], indices[split:]\n",
    "    \n",
    "    \n",
    "    \n",
    "    train_sampler = SubsetRandomSampler(train_idx)\n",
    "    valid_sampler = SubsetRandomSampler(valid_idx)\n",
    "    \n",
    "    train_loader = DataLoader(\n",
    "        train_data, batch_size=batch_size, sampler=train_sampler\n",
    "    )\n",
    "    valid_loader = DataLoader(\n",
    "        valid_data, batch_size=batch_size, sampler=valid_sampler\n",
    "    )\n",
    "    \n",
    "    return (train_loader, valid_loader)\n",
    "\n",
    "train_loader, valid_loader = load_train_data('D:', batch_size=30)"
   ]
  },
  {
   "cell_type": "code",
   "execution_count": 2,
   "metadata": {},
   "outputs": [],
   "source": [
    "%load_ext autoreload\n",
    "%autoreload 2"
   ]
  },
  {
   "cell_type": "code",
   "execution_count": 3,
   "metadata": {},
   "outputs": [],
   "source": [
    "trained_target = load_target(trained=True)\n",
    "trained_target = PyTorchModel(trained_target, bounds=(0, 255), num_classes=10)\n",
    "\n",
    "criterion = Misclassification()\n",
    "\n",
    "attack = GradientSignAttack(\n",
    "    model=trained_target, criterion=criterion\n",
    ")"
   ]
  },
  {
   "cell_type": "markdown",
   "metadata": {},
   "source": [
    "# Generate adversarial examples"
   ]
  },
  {
   "cell_type": "code",
   "execution_count": 4,
   "metadata": {},
   "outputs": [
    {
     "name": "stdout",
     "output_type": "stream",
     "text": [
      "STARTING\n"
     ]
    },
    {
     "data": {
      "application/vnd.jupyter.widget-view+json": {
       "model_id": "245444aa45ba45ed9f66b8e5cf7e1990",
       "version_major": 2,
       "version_minor": 0
      },
      "text/plain": [
       "IntProgress(value=0, max=60000)"
      ]
     },
     "metadata": {},
     "output_type": "display_data"
    },
    {
     "name": "stderr",
     "output_type": "stream",
     "text": [
      "/home/cole/.virtualenvs/RL/lib/python3.5/site-packages/foolbox/attacks/base.py:129: UserWarning: Not running the attack because the original input is already misclassified and the adversarial thus has a distance of 0.\n",
      "  warnings.warn('Not running the attack because the original input'\n"
     ]
    },
    {
     "ename": "KeyboardInterrupt",
     "evalue": "",
     "output_type": "error",
     "traceback": [
      "\u001b[0;31m---------------------------------------------------------------------------\u001b[0m",
      "\u001b[0;31mKeyboardInterrupt\u001b[0m                         Traceback (most recent call last)",
      "\u001b[0;32m<ipython-input-4-bdf7ae64ba98>\u001b[0m in \u001b[0;36m<module>\u001b[0;34m()\u001b[0m\n\u001b[1;32m     15\u001b[0m     \u001b[0;32mif\u001b[0m \u001b[0madv\u001b[0m \u001b[0;32mis\u001b[0m \u001b[0;32mNone\u001b[0m\u001b[0;34m:\u001b[0m\u001b[0;34m\u001b[0m\u001b[0m\n\u001b[1;32m     16\u001b[0m         \u001b[0madv\u001b[0m \u001b[0;34m=\u001b[0m \u001b[0mnp\u001b[0m\u001b[0;34m.\u001b[0m\u001b[0mones\u001b[0m\u001b[0;34m(\u001b[0m\u001b[0;34m(\u001b[0m\u001b[0;36m1\u001b[0m\u001b[0;34m,\u001b[0m \u001b[0;36m28\u001b[0m\u001b[0;34m,\u001b[0m \u001b[0;36m28\u001b[0m\u001b[0;34m)\u001b[0m\u001b[0;34m)\u001b[0m \u001b[0;34m*\u001b[0m \u001b[0mnp\u001b[0m\u001b[0;34m.\u001b[0m\u001b[0mnan\u001b[0m\u001b[0;34m\u001b[0m\u001b[0m\n\u001b[0;32m---> 17\u001b[0;31m     \u001b[0mx_adv\u001b[0m \u001b[0;34m=\u001b[0m \u001b[0mnp\u001b[0m\u001b[0;34m.\u001b[0m\u001b[0mvstack\u001b[0m\u001b[0;34m(\u001b[0m\u001b[0;34m[\u001b[0m\u001b[0mx_adv\u001b[0m\u001b[0;34m,\u001b[0m \u001b[0madv\u001b[0m\u001b[0;34m]\u001b[0m\u001b[0;34m)\u001b[0m\u001b[0;34m\u001b[0m\u001b[0m\n\u001b[0m\u001b[1;32m     18\u001b[0m \u001b[0;34m\u001b[0m\u001b[0m\n\u001b[1;32m     19\u001b[0m \u001b[0mnp\u001b[0m\u001b[0;34m.\u001b[0m\u001b[0msavetxt\u001b[0m\u001b[0;34m(\u001b[0m\u001b[0;34m'adversarial_examples_mnist_train.txt'\u001b[0m\u001b[0;34m,\u001b[0m \u001b[0mx_adv\u001b[0m\u001b[0;34m)\u001b[0m\u001b[0;34m\u001b[0m\u001b[0m\n",
      "\u001b[0;32m~/.virtualenvs/RL/lib/python3.5/site-packages/numpy/core/shape_base.py\u001b[0m in \u001b[0;36mvstack\u001b[0;34m(tup)\u001b[0m\n\u001b[1;32m    281\u001b[0m     \"\"\"\n\u001b[1;32m    282\u001b[0m     \u001b[0m_warn_for_nonsequence\u001b[0m\u001b[0;34m(\u001b[0m\u001b[0mtup\u001b[0m\u001b[0;34m)\u001b[0m\u001b[0;34m\u001b[0m\u001b[0m\n\u001b[0;32m--> 283\u001b[0;31m     \u001b[0;32mreturn\u001b[0m \u001b[0m_nx\u001b[0m\u001b[0;34m.\u001b[0m\u001b[0mconcatenate\u001b[0m\u001b[0;34m(\u001b[0m\u001b[0;34m[\u001b[0m\u001b[0matleast_2d\u001b[0m\u001b[0;34m(\u001b[0m\u001b[0m_m\u001b[0m\u001b[0;34m)\u001b[0m \u001b[0;32mfor\u001b[0m \u001b[0m_m\u001b[0m \u001b[0;32min\u001b[0m \u001b[0mtup\u001b[0m\u001b[0;34m]\u001b[0m\u001b[0;34m,\u001b[0m \u001b[0;36m0\u001b[0m\u001b[0;34m)\u001b[0m\u001b[0;34m\u001b[0m\u001b[0m\n\u001b[0m\u001b[1;32m    284\u001b[0m \u001b[0;34m\u001b[0m\u001b[0m\n\u001b[1;32m    285\u001b[0m \u001b[0;34m\u001b[0m\u001b[0m\n",
      "\u001b[0;31mKeyboardInterrupt\u001b[0m: "
     ]
    }
   ],
   "source": [
    "print('STARTING')\n",
    "x_adv = np.zeros((0, 28, 28))\n",
    "\n",
    "# num_train = len(train_loader.sampler.indices)\n",
    "# num_batches = int(np.ceil(num_train / train_loader.batch_size))\n",
    "\n",
    "train_data = datasets.MNIST(\n",
    "    root='D:/', train=True, transform=transforms.ToTensor()\n",
    ")\n",
    "\n",
    "missing = []\n",
    "for i, (X_train, y_train) in progress_bar(enumerate(train_data), mx=len(train_data)):\n",
    "#     for i in range(X_train.shape[0]):\n",
    "    adv = attack(X_train.numpy(), y_train.numpy())\n",
    "    if adv is None:\n",
    "        adv = np.ones((1, 28, 28)) * np.nan\n",
    "    x_adv = np.vstack([x_adv, adv])\n",
    "\n",
    "np.savetxt('adversarial_examples_mnist_train.txt', x_adv)"
   ]
  },
  {
   "cell_type": "code",
   "execution_count": null,
   "metadata": {},
   "outputs": [],
   "source": [
    "\n",
    "# X_ADV = np.zeros((0, 28, 28))\n",
    "# # for x in x_adv:\n",
    "# #     X_ADV = np.vstack([X_ADV, x.reshape(1, 28, 28)])\n",
    "    \n",
    "# print('FINISHED')\n",
    "\n"
   ]
  },
  {
   "cell_type": "code",
   "execution_count": null,
   "metadata": {},
   "outputs": [],
   "source": [
    "i = np.random.randint(len(x_adv))\n",
    "\n",
    "y_pred = trained_target._model(\n",
    "    torch.Tensor(x_adv[i]).view(1, 28, 28)\n",
    ").detach().numpy().argmax()\n",
    "\n",
    "f, ax = plt.subplots(figsize=(12, 7))\n",
    "ax.imshow(x_adv[i].reshape(28, 28), cmap=cm.binary)\n",
    "ax.set_title('Predicted: %d' % y_pred)\n",
    "plt.show()\n"
   ]
  }
 ],
 "metadata": {
  "kernelspec": {
   "display_name": "Python 3",
   "language": "python",
   "name": "python3"
  },
  "language_info": {
   "codemirror_mode": {
    "name": "ipython",
    "version": 3
   },
   "file_extension": ".py",
   "mimetype": "text/x-python",
   "name": "python",
   "nbconvert_exporter": "python",
   "pygments_lexer": "ipython3",
   "version": "3.5.2"
  },
  "varInspector": {
   "cols": {
    "lenName": 16,
    "lenType": 16,
    "lenVar": 40
   },
   "kernels_config": {
    "python": {
     "delete_cmd_postfix": "",
     "delete_cmd_prefix": "del ",
     "library": "var_list.py",
     "varRefreshCmd": "print(var_dic_list())"
    },
    "r": {
     "delete_cmd_postfix": ") ",
     "delete_cmd_prefix": "rm(",
     "library": "var_list.r",
     "varRefreshCmd": "cat(var_dic_list()) "
    }
   },
   "types_to_exclude": [
    "module",
    "function",
    "builtin_function_or_method",
    "instance",
    "_Feature"
   ],
   "window_display": false
  }
 },
 "nbformat": 4,
 "nbformat_minor": 2
}
