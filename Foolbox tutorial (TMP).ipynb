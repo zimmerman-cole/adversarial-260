{
 "cells": [
  {
   "cell_type": "markdown",
   "metadata": {},
   "source": [
    "# imports, load model"
   ]
  },
  {
   "cell_type": "code",
   "execution_count": 57,
   "metadata": {},
   "outputs": [],
   "source": [
    "import pickle as pkl\n",
    "import numpy as np\n",
    "import matplotlib.pyplot as plt\n",
    "from matplotlib import cm\n",
    "from mnist import MNIST\n",
    "\n",
    "import foolbox\n",
    "from foolbox.zoo import get_model\n",
    "\n",
    "\n"
   ]
  },
  {
   "cell_type": "code",
   "execution_count": 5,
   "metadata": {},
   "outputs": [],
   "source": [
    "%load_ext autoreload\n",
    "%autoreload 2"
   ]
  },
  {
   "cell_type": "code",
   "execution_count": 7,
   "metadata": {},
   "outputs": [],
   "source": [
    "f = open('target_network.p', 'rb')\n",
    "t_model = pkl.load(f)\n",
    "f.close()"
   ]
  },
  {
   "cell_type": "code",
   "execution_count": 48,
   "metadata": {},
   "outputs": [],
   "source": [
    "path_to_MNIST = '/home/cole/Desktop/other/ML/DATASETS/MNIST'\n",
    "\n",
    "mndata = MNIST(path_to_MNIST)\n",
    "X_train, y_train = mndata.load_training()\n",
    "X_train = np.array(X_train).reshape(-1, 28, 28)\n",
    "y_train = np.array(y_train)\n",
    "\n",
    "X_train = X_train / 255.\n",
    "\n",
    "X_test, y_test = mndata.load_testing()\n",
    "X_test = np.array(X_test).reshape(-1, 28, 28)\n",
    "y_test = np.array(y_test)\n",
    "\n",
    "X_test = X_test / 255."
   ]
  },
  {
   "cell_type": "markdown",
   "metadata": {},
   "source": [
    "# tut"
   ]
  },
  {
   "cell_type": "code",
   "execution_count": 50,
   "metadata": {},
   "outputs": [],
   "source": [
    "# model = foolbox.models.PyTorchModel(\n",
    "#     model=t_model, bounds=(0, 255), num_classes=10\n",
    "# )\n",
    "# model = get_model('https://github.com/bethgelab/mnist_challenge')\n",
    "\n",
    "# criterion = foolbox.criteria.ConfidentMisclassification(p=0.9)\n",
    "# distance = foolbox.distances.Linfinity()\n"
   ]
  },
  {
   "cell_type": "code",
   "execution_count": 70,
   "metadata": {},
   "outputs": [],
   "source": [
    "criterion = foolbox.criteria.Misclassification()\n",
    "\n",
    "idx = np.random.randint(X_train.shape[0])\n",
    "x = X_train[idx].reshape(-1).astype(np.float64)\n",
    "y = y_train[idx].astype(np.float64)\n",
    "\n",
    "attacker = foolbox.attacks.ProjectedGradientDescentAttack(\n",
    "    model=model, distance=foolbox.distances.Linfinity, \n",
    "    criterion=criterion, threshold=0.01\n",
    ")\n",
    "\n",
    "# x.dtype\n",
    "x_adv = attacker(x, label=y)"
   ]
  },
  {
   "cell_type": "code",
   "execution_count": 71,
   "metadata": {},
   "outputs": [
    {
     "data": {
      "image/png": "[encoded data removed]",
      "text/plain": [
       "<Figure size 864x432 with 3 Axes>"
      ]
     },
     "metadata": {},
     "output_type": "display_data"
    }
   ],
   "source": [
    "f, (ax1, ax2) = plt.subplots(1, 2, figsize=(12, 6))\n",
    "\n",
    "ax1.imshow(x.reshape(28, 28), cmap=cm.binary)\n",
    "cs = ax2.imshow(x_adv.reshape(28, 28), cmap=cm.binary)\n",
    "\n",
    "plt.colorbar(cs, ax=ax2)\n",
    "\n",
    "plt.show()"
   ]
  }
 ],
 "metadata": {
  "kernelspec": {
   "display_name": "Python 3",
   "language": "python",
   "name": "python3"
  },
  "language_info": {
   "codemirror_mode": {
    "name": "ipython",
    "version": 3
   },
   "file_extension": ".py",
   "mimetype": "text/x-python",
   "name": "python",
   "nbconvert_exporter": "python",
   "pygments_lexer": "ipython3",
   "version": "3.5.2"
  },
  "varInspector": {
   "cols": {
    "lenName": 16,
    "lenType": 16,
    "lenVar": 40
   },
   "kernels_config": {
    "python": {
     "delete_cmd_postfix": "",
     "delete_cmd_prefix": "del ",
     "library": "var_list.py",
     "varRefreshCmd": "print(var_dic_list())"
    },
    "r": {
     "delete_cmd_postfix": ") ",
     "delete_cmd_prefix": "rm(",
     "library": "var_list.r",
     "varRefreshCmd": "cat(var_dic_list()) "
    }
   },
   "types_to_exclude": [
    "module",
    "function",
    "builtin_function_or_method",
    "instance",
    "_Feature"
   ],
   "window_display": false
  }
 },
 "nbformat": 4,
 "nbformat_minor": 2
}
