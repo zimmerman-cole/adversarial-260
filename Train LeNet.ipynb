{
 "cells": [
  {
   "cell_type": "markdown",
   "metadata": {},
   "source": [
    "# Imports, load data"
   ]
  },
  {
   "cell_type": "code",
   "execution_count": 10,
   "metadata": {},
   "outputs": [
    {
     "data": {
      "text/plain": [
       "<torch._C.Generator at 0x7f11188890b0>"
      ]
     },
     "execution_count": 10,
     "metadata": {},
     "output_type": "execute_result"
    }
   ],
   "source": [
    "import numpy as np\n",
    "import pickle as pkl\n",
    "import matplotlib.pyplot as plt\n",
    "from matplotlib import cm\n",
    "from copy import deepcopy\n",
    "\n",
    "import torch\n",
    "from torch import nn\n",
    "from torch.nn import functional\n",
    "import torch.optim as optim\n",
    "\n",
    "from IPython.display import display, clear_output\n",
    "from ipywidgets import IntProgress, Text, Output\n",
    "\n",
    "from src.utils import progress_bar\n",
    "from src.network import train_CNN, LeNet\n",
    "\n",
    "SEED = 3489\n",
    "np.random.seed(SEED)\n",
    "torch.manual_seed(SEED)"
   ]
  },
  {
   "cell_type": "code",
   "execution_count": 2,
   "metadata": {},
   "outputs": [],
   "source": [
    "%load_ext autoreload\n",
    "%autoreload 2"
   ]
  },
  {
   "cell_type": "code",
   "execution_count": 3,
   "metadata": {},
   "outputs": [],
   "source": [
    "f = open('data/X_train.p', 'rb')\n",
    "X_train = pkl.load(f)\n",
    "f.close()\n",
    "y_train = np.loadtxt('data/y_train.txt')\n",
    "\n",
    "idx_valid = list(np.random.choice(X_train.shape[0], replace=False, size=7500))\n",
    "idx_train = list(set(list(range(X_train.shape[0]))).difference(set(idx_valid)))\n",
    "\n",
    "X_valid, y_valid = X_train[idx_valid], y_train[idx_valid]\n",
    "X_train, y_train = X_train[idx_train], y_train[idx_train]\n",
    "num_train = X_train.shape[0]\n",
    "\n",
    "f = open('data/X_test1.p', 'rb')\n",
    "X_test1 = pkl.load(f)\n",
    "f.close()\n",
    "y_test1 = np.loadtxt('data/y_test1.txt')"
   ]
  },
  {
   "cell_type": "markdown",
   "metadata": {},
   "source": [
    "# Train"
   ]
  },
  {
   "cell_type": "code",
   "execution_count": 4,
   "metadata": {
    "code_folding": [
     11
    ]
   },
   "outputs": [
    {
     "data": {
      "application/vnd.jupyter.widget-view+json": {
       "model_id": "",
       "version_major": 2,
       "version_minor": 0
      },
      "text/plain": [
       "IntProgress(value=0, max=2625)"
      ]
     },
     "metadata": {},
     "output_type": "display_data"
    },
    {
     "data": {
      "application/vnd.jupyter.widget-view+json": {
       "model_id": "",
       "version_major": 2,
       "version_minor": 0
      },
      "text/plain": [
       "IntProgress(value=0)"
      ]
     },
     "metadata": {},
     "output_type": "display_data"
    },
    {
     "data": {
      "application/vnd.jupyter.widget-view+json": {
       "model_id": "",
       "version_major": 2,
       "version_minor": 0
      },
      "text/plain": [
       "Text(value='')"
      ]
     },
     "metadata": {},
     "output_type": "display_data"
    },
    {
     "data": {
      "application/vnd.jupyter.widget-view+json": {
       "model_id": "97366a0d703142c888609d667756569a",
       "version_major": 2,
       "version_minor": 0
      },
      "text/plain": [
       "Output()"
      ]
     },
     "metadata": {},
     "output_type": "display_data"
    }
   ],
   "source": [
    "batch_size = 20\n",
    "num_epochs = 100\n",
    "\n",
    "# Set up training monitors\n",
    "num_batches = int(np.ceil(num_train / batch_size))\n",
    "batch_progress = IntProgress(value=0, max=num_batches)\n",
    "epoch_progress = IntProgress(value=0, max=num_epochs)\n",
    "valid_stats = Output()\n",
    "\n",
    "info_box = Text(value='')\n",
    "\n",
    "def batch_hook(model, stats, epoch, batch_num):\n",
    "    batch_progress.value = batch_num\n",
    "    batch_progress.description = str(batch_num)\n",
    "    \n",
    "def epoch_hook(model, stats, epoch):\n",
    "    epoch_progress.value = epoch\n",
    "    batch_progress.value = 0\n",
    "    batch_progress.description = '0'\n",
    "    \n",
    "    if epoch > 1:\n",
    "        t_loss = stats['train_loss'][-1]\n",
    "        t_diff = stats['train_loss'][-2] - t_loss\n",
    "        v_acc = stats['valid_acc'][-1]\n",
    "        v_diff = stats['valid_acc'][-2] - v_acc\n",
    "\n",
    "        msg = 'Tr loss: %.4f (%.4f); ' % (t_loss, t_diff)\n",
    "        msg = msg + 'Vd acc: %.4f (%.4f)' % (v_acc, v_diff)\n",
    "        info_box.value = msg\n",
    "        \n",
    "        with valid_stats:\n",
    "            clear_output()\n",
    "            f, ax = plt.subplots(figsize=(10, 5))\n",
    "            ax.set_xlabel('Epoch')\n",
    "            ax.set_ylabel('Validation accuracy')\n",
    "            ax.plot(range(len(stats['valid_acc'])), stats['valid_acc'])\n",
    "            ax.scatter(range(len(stats['valid_acc'])), stats['valid_acc'])\n",
    "            plt.show()\n",
    "    \n",
    "display(batch_progress)\n",
    "display(epoch_progress)\n",
    "display(info_box)\n",
    "display(valid_stats)\n",
    "\n",
    "# Set up training\n",
    "model = LeNet(p=0.4)\n",
    "train_data = (X_train, y_train)\n",
    "learning_rate = 0.001\n",
    "optimizer = optim.Adam(model.parameters(), lr=learning_rate)\n",
    "loss = nn.CrossEntropyLoss()\n",
    "# scheduler = optim.lr_scheduler.ReduceLROnPlateau(optimizer, mode='max', factor=0.5)\n",
    "scheduler = None\n",
    "valid_stop_threshold = 0.0001\n",
    "valid_data = (X_valid, y_valid)\n",
    "epoch_hooks = [epoch_hook]\n",
    "batch_hooks = [batch_hook]\n",
    "\n",
    "model, stats = train_CNN(\n",
    "    model, train_data, optimizer, loss, num_epochs, batch_size, scheduler, valid_data,\n",
    "    valid_stop_threshold, epoch_hooks=epoch_hooks, batch_hooks=batch_hooks\n",
    ")\n",
    "\n",
    "batch_progress.close()\n",
    "epoch_progress.close()\n",
    "info_box.close()\n"
   ]
  },
  {
   "cell_type": "code",
   "execution_count": 16,
   "metadata": {},
   "outputs": [],
   "source": [
    "# stats_cp = deepcopy(stats)\n",
    "# bm, acc = stats['best_model']\n",
    "# stats_cp['best_model_state_dict'] = (bm.state_dict(), acc)\n",
    "# del stats_cp['best_model']\n",
    "\n",
    "# to_save = dict()\n",
    "# to_save['model_state_dict'] = model.state_dict()\n",
    "# to_save['stats'] = stats_cp\n",
    "# to_save['optimizer'] = optimizer\n",
    "# to_save['scheduler'] = scheduler\n",
    "# to_save['batch_size'] = batch_size\n",
    "# to_save['SEED'] = SEED\n",
    "\n",
    "# f = open('saved_models/LeNet_attempt5.p', 'wb')\n",
    "# pkl.dump(to_save, f)\n",
    "# f.close()\n",
    "\n",
    "# stats['best_model']\n",
    "\n",
    "torch.save(model.state_dict(), 'saved_models/LeNet_no_adversarial.pth')"
   ]
  },
  {
   "cell_type": "markdown",
   "metadata": {},
   "source": [
    "# Get test accuracy"
   ]
  },
  {
   "cell_type": "code",
   "execution_count": null,
   "metadata": {},
   "outputs": [],
   "source": [
    "y_pred = model(\n",
    "    torch.Tensor(X_test1.reshape(-1, 1, 28, 28))\n",
    ").detach().numpy().argmax(axis=1)\n",
    "acc = len(np.argwhere(y_pred == y_test1)) / len(y_test1)\n",
    "\n",
    "print('Test acccuracy: %.5f' % acc)"
   ]
  }
 ],
 "metadata": {
  "kernelspec": {
   "display_name": "Python 3",
   "language": "python",
   "name": "python3"
  },
  "language_info": {
   "codemirror_mode": {
    "name": "ipython",
    "version": 3
   },
   "file_extension": ".py",
   "mimetype": "text/x-python",
   "name": "python",
   "nbconvert_exporter": "python",
   "pygments_lexer": "ipython3",
   "version": "3.5.2"
  },
  "varInspector": {
   "cols": {
    "lenName": 16,
    "lenType": 16,
    "lenVar": 40
   },
   "kernels_config": {
    "python": {
     "delete_cmd_postfix": "",
     "delete_cmd_prefix": "del ",
     "library": "var_list.py",
     "varRefreshCmd": "print(var_dic_list())"
    },
    "r": {
     "delete_cmd_postfix": ") ",
     "delete_cmd_prefix": "rm(",
     "library": "var_list.r",
     "varRefreshCmd": "cat(var_dic_list()) "
    }
   },
   "types_to_exclude": [
    "module",
    "function",
    "builtin_function_or_method",
    "instance",
    "_Feature"
   ],
   "window_display": false
  }
 },
 "nbformat": 4,
 "nbformat_minor": 2
}
