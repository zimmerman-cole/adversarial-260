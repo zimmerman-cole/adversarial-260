{
 "cells": [
  {
   "cell_type": "markdown",
   "metadata": {
    "heading_collapsed": true
   },
   "source": [
    "# Imports, load data"
   ]
  },
  {
   "cell_type": "code",
   "execution_count": 1,
   "metadata": {
    "hidden": true
   },
   "outputs": [],
   "source": [
    "import numpy as np\n",
    "import matplotlib.pyplot as plt\n",
    "from collections import OrderedDict\n",
    "\n",
    "import torch\n",
    "import torch.nn as nn\n",
    "import torch.optim as optim\n",
    "from torch.autograd import Variable\n",
    "import torchvision\n",
    "\n",
    "from mnist import MNIST\n",
    "\n",
    "from src.network import CNN, get_output_size_2d, train_CNN"
   ]
  },
  {
   "cell_type": "code",
   "execution_count": 2,
   "metadata": {
    "hidden": true
   },
   "outputs": [],
   "source": [
    "%load_ext autoreload\n",
    "%autoreload 2"
   ]
  },
  {
   "cell_type": "code",
   "execution_count": 3,
   "metadata": {
    "hidden": true
   },
   "outputs": [],
   "source": [
    "path_to_MNIST = '/home/cole/Desktop/other/ML/DATASETS/MNIST'\n",
    "\n",
    "mndata = MNIST(path_to_MNIST)\n",
    "X_train, y_train = mndata.load_training()\n",
    "X_train = np.array(X_train).reshape(-1, 28, 28)\n",
    "y_train = np.array(y_train)\n",
    "\n",
    "X_test, y_test = mndata.load_testing()\n",
    "X_test = np.array(X_test).reshape(-1, 28, 28)\n",
    "y_test = np.array(y_test)"
   ]
  },
  {
   "cell_type": "markdown",
   "metadata": {
    "heading_collapsed": true,
    "hidden": true
   },
   "source": [
    "## Validation data"
   ]
  },
  {
   "cell_type": "code",
   "execution_count": 4,
   "metadata": {
    "hidden": true
   },
   "outputs": [],
   "source": [
    "X_valid = np.zeros((0, 28, 28))\n",
    "y_valid = []\n",
    "valid_idx = []\n",
    "for c in range(10):\n",
    "    \n",
    "    c_idx = np.argwhere(y_train == c).squeeze()\n",
    "    \n",
    "    v_idx = np.random.choice(c_idx, replace=False, size=1000)\n",
    "    valid_idx.extend(list(v_idx))\n",
    "    \n",
    "    X_valid = np.vstack([X_valid, X_train[v_idx]])\n",
    "    \n",
    "y_valid = y_train[valid_idx]\n",
    "\n",
    "X_train = np.delete(X_train, valid_idx, axis=0)\n",
    "y_train = np.delete(y_train, valid_idx)"
   ]
  },
  {
   "cell_type": "markdown",
   "metadata": {
    "heading_collapsed": true
   },
   "source": [
    "# Set architecture, hyperparameters"
   ]
  },
  {
   "cell_type": "markdown",
   "metadata": {
    "hidden": true
   },
   "source": [
    "## Architecture"
   ]
  },
  {
   "cell_type": "code",
   "execution_count": 5,
   "metadata": {
    "hidden": true
   },
   "outputs": [],
   "source": [
    "# ======================================================\n",
    "# Convolutional portion\n",
    "# ======================================================\n",
    "cv_layers = OrderedDict()\n",
    "\n",
    "cv_layers['batch_norm_0'] = nn.BatchNorm2d(num_features=1)\n",
    "cv_layers['conv_0'] = nn.Conv2d(in_channels=1, out_channels=4, kernel_size=5)\n",
    "cv_layers['relu_0'] = nn.ReLU()\n",
    "cv_layers['max_pool_0'] = nn.MaxPool2d(kernel_size=(2, 2))\n",
    "\n",
    "cv_layers['batch_norm_1'] = nn.BatchNorm2d(num_features=4)\n",
    "cv_layers['conv_1'] = nn.Conv2d(in_channels=4, out_channels=5, kernel_size=3)\n",
    "cv_layers['relu_1'] = nn.ReLU()\n",
    "cv_layers['max_pool_1'] = nn.MaxPool2d(kernel_size=(2, 2))\n",
    "\n",
    "h, w = get_output_size_2d(cv_layers, (28, 28))\n",
    "\n",
    "# ======================================================\n",
    "# Fully-connected portion\n",
    "# ======================================================\n",
    "fc_in_shape = h * w * cv_layers['conv_1'].out_channels\n",
    "\n",
    "fc_layers = OrderedDict()\n",
    "\n",
    "# fc_layers['batch_norm_0'] = nn.BatchNorm1d(num_features=fc_in_shape)\n",
    "fc_layers['linear_0'] = nn.Linear(in_features=fc_in_shape, out_features=200)\n",
    "fc_layers['relu_0'] = nn.ReLU()\n",
    "# fc_layers['batch_norm_0'] = nn.BatchNorm1d(num_features=200)\n",
    "fc_layers['linear_1'] = nn.Linear(in_features=200, out_features=100)\n",
    "fc_layers['relu_1'] = nn.ReLU()\n",
    "fc_layers['linear_out'] = nn.Linear(in_features=100, out_features=10)"
   ]
  },
  {
   "cell_type": "markdown",
   "metadata": {
    "hidden": true
   },
   "source": [
    "## Training hyperparameters"
   ]
  },
  {
   "cell_type": "code",
   "execution_count": 6,
   "metadata": {
    "hidden": true
   },
   "outputs": [],
   "source": [
    "model = CNN(cv_layers, fc_in_shape, fc_layers)\n",
    "\n",
    "batch_size = 20\n",
    "num_batches = int(np.ceil(X_train.shape[0] / batch_size))\n",
    "num_epochs = 10\n",
    "\n",
    "loss = nn.CrossEntropyLoss()\n",
    "\n",
    "optimizer = optim.Adam(model.parameters(), lr=0.01)"
   ]
  },
  {
   "cell_type": "markdown",
   "metadata": {},
   "source": [
    "# Run"
   ]
  },
  {
   "cell_type": "markdown",
   "metadata": {},
   "source": [
    "## Train"
   ]
  },
  {
   "cell_type": "code",
   "execution_count": null,
   "metadata": {},
   "outputs": [
    {
     "name": "stdout",
     "output_type": "stream",
     "text": [
      "================================================================================\n",
      "Epoch [0/10]\n",
      "Avg train loss: 0.20414\n",
      "Valid acc: 0.965\n",
      "================================================================================\n",
      "Epoch [1/10]\n",
      "Avg train loss: 0.12823\n",
      "Valid acc: 0.961\n",
      "================================================================================\n",
      "Epoch [2/10]\n",
      "Avg train loss: 0.11805\n",
      "Valid acc: 0.967\n",
      "================================================================================\n",
      "Epoch [3/10]\n",
      "Avg train loss: 0.11324\n",
      "Valid acc: 0.970\n",
      "================================================================================\n",
      "Epoch [4/10]\n",
      "Avg train loss: 0.10815\n",
      "Valid acc: 0.976\n",
      "================================================================================\n",
      "Epoch [5/10]\n",
      "Avg train loss: 0.10546\n",
      "Valid acc: 0.972\n",
      "================================================================================\n",
      "Epoch [6/10]\n",
      "Avg train loss: 0.10980\n",
      "Valid acc: 0.971\n",
      "================================================================================\n",
      "Epoch [7/10]\n",
      "Avg train loss: 0.10078\n"
     ]
    },
    {
     "name": "stderr",
     "output_type": "stream",
     "text": [
      "/home/cole/Desktop/260/adversarial-260/src/network.py:59: RuntimeWarning: overflow encountered in exp\n",
      "  probs = np.exp(scores).reshape(n, -1)\n",
      "/home/cole/Desktop/260/adversarial-260/src/network.py:60: RuntimeWarning: invalid value encountered in true_divide\n",
      "  probs /= probs.sum(axis=1).reshape(-1, 1)\n"
     ]
    },
    {
     "name": "stdout",
     "output_type": "stream",
     "text": [
      "Valid acc: 0.972\n",
      "================================================================================\n",
      "Epoch [8/10]\n",
      "Avg train loss: 0.09292\n",
      "Valid acc: 0.976\n",
      "================================================================================\n",
      "Epoch [9/10]\n"
     ]
    }
   ],
   "source": [
    "model, stats = train_CNN(\n",
    "    model, (X_train, y_train), optimizer, loss, num_epochs, batch_size, \n",
    "    valid_data=(X_valid, y_valid), verbose=True\n",
    ")"
   ]
  },
  {
   "cell_type": "markdown",
   "metadata": {},
   "source": [
    "## Test"
   ]
  },
  {
   "cell_type": "code",
   "execution_count": null,
   "metadata": {},
   "outputs": [],
   "source": [
    "best_model = stats['best_model'][0]\n",
    "\n",
    "best_model.eval()\n",
    "\n",
    "y_pred = best_model.predict(\n",
    "    Variable(torch.Tensor(X_test.reshape(-1, 1, 28, 28)))\n",
    ").argmax(axis=1)\n",
    "\n",
    "num_correct = len(np.argwhere(y_test.squeeze() == y_pred.squeeze()))\n",
    "acc = num_correct / y_test.shape[0]\n",
    "\n",
    "print('Test accuracy: %.3f' % acc)"
   ]
  },
  {
   "cell_type": "markdown",
   "metadata": {},
   "source": [
    "## Save model"
   ]
  },
  {
   "cell_type": "code",
   "execution_count": null,
   "metadata": {},
   "outputs": [],
   "source": [
    "import pickle as pkl\n",
    "\n",
    "f = open('target_network.p', 'wb')\n",
    "pkl.dump(best_model, f)\n",
    "f.close()"
   ]
  }
 ],
 "metadata": {
  "kernelspec": {
   "display_name": "Python 3",
   "language": "python",
   "name": "python3"
  },
  "language_info": {
   "codemirror_mode": {
    "name": "ipython",
    "version": 3
   },
   "file_extension": ".py",
   "mimetype": "text/x-python",
   "name": "python",
   "nbconvert_exporter": "python",
   "pygments_lexer": "ipython3",
   "version": "3.5.2"
  },
  "varInspector": {
   "cols": {
    "lenName": 16,
    "lenType": 16,
    "lenVar": 40
   },
   "kernels_config": {
    "python": {
     "delete_cmd_postfix": "",
     "delete_cmd_prefix": "del ",
     "library": "var_list.py",
     "varRefreshCmd": "print(var_dic_list())"
    },
    "r": {
     "delete_cmd_postfix": ") ",
     "delete_cmd_prefix": "rm(",
     "library": "var_list.r",
     "varRefreshCmd": "cat(var_dic_list()) "
    }
   },
   "types_to_exclude": [
    "module",
    "function",
    "builtin_function_or_method",
    "instance",
    "_Feature"
   ],
   "window_display": false
  }
 },
 "nbformat": 4,
 "nbformat_minor": 2
}
