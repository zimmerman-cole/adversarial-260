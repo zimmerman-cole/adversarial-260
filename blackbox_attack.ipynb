{
 "cells": [
  {
   "cell_type": "code",
   "execution_count": 1,
   "metadata": {},
   "outputs": [],
   "source": [
    "import numpy as np\n",
    "\n",
    "import torch\n",
    "from torch import nn\n",
    "from torch.nn import functional\n",
    "from torchvision import datasets, transforms\n",
    "\n",
    "from foolbox.models import PyTorchModel\n",
    "from foolbox.criteria import Misclassification\n",
    "from foolbox.attacks import LocalSearchAttack, BoundaryAttack\n",
    "\n",
    "import matplotlib.pyplot as plt\n",
    "from matplotlib import cm"
   ]
  },
  {
   "cell_type": "code",
   "execution_count": 2,
   "metadata": {},
   "outputs": [],
   "source": [
    "# model definition (example from pytorch/examples/mnist on github)\n",
    "class Net(nn.Module):\n",
    "    def __init__(self):\n",
    "        super(Net, self).__init__()\n",
    "        self.conv1 = nn.Conv2d(1, 10, kernel_size=5)\n",
    "        self.conv2 = nn.Conv2d(10, 20, kernel_size=5)\n",
    "        self.conv2_drop = nn.Dropout2d()\n",
    "        self.fc1 = nn.Linear(320, 50)\n",
    "        self.fc2 = nn.Linear(50, 10)\n",
    "\n",
    "    def forward(self, x):\n",
    "        x = functional.relu(functional.max_pool2d(self.conv1(x), 2))\n",
    "        x = functional.relu(functional.max_pool2d(self.conv2_drop(self.conv2(x)), 2))\n",
    "        x = x.view(-1, 320)\n",
    "        x = functional.relu(self.fc1(x))\n",
    "        x = functional.dropout(x, training=self.training)\n",
    "        x = self.fc2(x)\n",
    "        return functional.log_softmax(x, dim=1)"
   ]
  },
  {
   "cell_type": "code",
   "execution_count": 4,
   "metadata": {},
   "outputs": [
    {
     "data": {
      "text/plain": [
       "Net(\n",
       "  (conv1): Conv2d(1, 10, kernel_size=(5, 5), stride=(1, 1))\n",
       "  (conv2): Conv2d(10, 20, kernel_size=(5, 5), stride=(1, 1))\n",
       "  (conv2_drop): Dropout2d(p=0.5)\n",
       "  (fc1): Linear(in_features=320, out_features=50, bias=True)\n",
       "  (fc2): Linear(in_features=50, out_features=10, bias=True)\n",
       ")"
      ]
     },
     "execution_count": 4,
     "metadata": {},
     "output_type": "execute_result"
    }
   ],
   "source": [
    "# initialize/load target network\n",
    "target = Net()\n",
    "target.load_state_dict(torch.load('lenet_mnist_model.pth', map_location='cpu'))  # load pre-learned parameters\n",
    "target.eval()  # put model into evaluation mode"
   ]
  },
  {
   "cell_type": "code",
   "execution_count": 5,
   "metadata": {},
   "outputs": [],
   "source": [
    "# create foolbox model from target network\n",
    "fb_model = PyTorchModel(target,\n",
    "                        bounds=(0,255),  # range of pixel values\n",
    "                        num_classes=10   # digits 0 to 9\n",
    "                       )\n",
    "\n",
    "# set criterion for an adversarial as image with min perturbation causing misclassification\n",
    "criterion = Misclassification()\n",
    "\n",
    "# define type of attack (black-box, decision-based)\n",
    "attack = BoundaryAttack(model=fb_model, criterion=criterion)"
   ]
  },
  {
   "cell_type": "code",
   "execution_count": 11,
   "metadata": {},
   "outputs": [],
   "source": [
    "# load and format data\n",
    "train_data = datasets.MNIST(root='D:/', train=True, transform=None, target_transform=None, download=True)\n",
    "\n",
    "# make sure data has right dimensions for foolbox library, is np.array, and is float\n",
    "x_train = [(np.array(x[0]).reshape(1, 28, 28)).astype('float32') for x in train_data]\n",
    "y_train = [np.int(x[1]) for x in train_data]"
   ]
  },
  {
   "cell_type": "code",
   "execution_count": 35,
   "metadata": {
    "scrolled": true
   },
   "outputs": [
    {
     "name": "stdout",
     "output_type": "stream",
     "text": [
      "run with verbose=True to see details\n",
      "Step 0: 1.88779e-01, stepsizes = 1.0e-02/1.0e-02: \n",
      "Step 100: 1.50720e-01, stepsizes = 1.5e-02/4.4e-03: d. reduced by 0.89% (1.3487e-03) (took 0.00000 seconds)\n"
     ]
    },
    {
     "name": "stderr",
     "output_type": "stream",
     "text": [
      "C:\\Users\\Yugo\\Anaconda3\\lib\\site-packages\\foolbox\\attacks\\boundary_attack.py:1076: RuntimeWarning: divide by zero encountered in double_scalars\n",
      "  improvement = step_duration[value - 1] / best_step_duration\n"
     ]
    },
    {
     "name": "stdout",
     "output_type": "stream",
     "text": [
      "Step 200: 6.12607e-02, stepsizes = 3.4e-02/4.4e-03: d. reduced by 0.89% (5.4819e-04) (took 0.01562 seconds)\n",
      "Step 300: 2.67525e-02, stepsizes = 5.1e-02/4.4e-03: d. reduced by 0.89% (2.3940e-04) (took 0.01565 seconds)\n",
      "Step 400: 1.38375e-02, stepsizes = 5.1e-02/3.0e-03: d. reduced by 0.89% (1.2383e-04) (took 0.00000 seconds)\n",
      "Step 500: 9.24261e-03, stepsizes = 3.4e-02/2.0e-03:  (took 0.01562 seconds)\n",
      "Step 600: 7.32948e-03, stepsizes = 3.4e-02/8.8e-04: d. reduced by 0.18% (1.2886e-05) (took 0.01562 seconds)\n",
      "Step 700: 5.86366e-03, stepsizes = 3.4e-02/1.3e-03:  (took 0.01562 seconds)\n",
      "Step 800: 5.20346e-03, stepsizes = 2.3e-02/5.9e-04: d. reduced by 0.12% (6.0962e-06) (took 0.01562 seconds)\n",
      "Step 900: 4.69119e-03, stepsizes = 2.3e-02/5.9e-04: d. reduced by 0.12% (5.4962e-06) (took 0.01562 seconds)\n",
      "Step 1000: 4.43828e-03, stepsizes = 1.5e-02/3.9e-04:  (took 0.01562 seconds)\n",
      "Step 1100: 4.26620e-03, stepsizes = 1.0e-02/2.6e-04: d. reduced by 0.05% (2.2203e-06) (took 0.01562 seconds)\n",
      "Step 1200: 4.12004e-03, stepsizes = 6.7e-03/1.7e-04:  (took 0.01565 seconds)\n",
      "Step 1300: 4.03238e-03, stepsizes = 6.7e-03/1.7e-04: d. reduced by 0.03% (1.3989e-06) (took 0.01562 seconds)\n",
      "Step 1400: 3.95420e-03, stepsizes = 4.4e-03/7.7e-05: d. reduced by 0.02% (6.0959e-07) (took 0.01562 seconds)\n",
      "Step 1500: 3.90032e-03, stepsizes = 4.4e-03/1.2e-04:  (took 0.01562 seconds)\n",
      "Step 1600: 3.86650e-03, stepsizes = 3.0e-03/5.1e-05: d. reduced by 0.01% (3.9742e-07) (took 0.03124 seconds)\n",
      "Step 1700: 3.82500e-03, stepsizes = 3.0e-03/5.1e-05: d. reduced by 0.01% (3.9309e-07) (took 0.01562 seconds)\n",
      "Step 1800: 3.79498e-03, stepsizes = 3.0e-03/5.1e-05: d. reduced by 0.01% (2.6000e-07) (took 0.01562 seconds)\n",
      "Step 1900: 3.76481e-03, stepsizes = 2.0e-03/3.4e-05: d. reduced by 0.01% (2.5792e-07) (took 0.01562 seconds)\n",
      "Step 2000: 3.74270e-03, stepsizes = 2.0e-03/3.4e-05: d. reduced by 0.01% (2.5641e-07) (took 0.01562 seconds)\n",
      "Step 2100: 3.72428e-03, stepsizes = 2.0e-03/3.4e-05:  (took 0.01562 seconds)\n",
      "Step 2200: 3.71205e-03, stepsizes = 1.3e-03/2.3e-05: d. reduced by 0.00% (1.6950e-07) (took 0.01562 seconds)\n",
      "Step 2300: 3.70054e-03, stepsizes = 8.8e-04/2.3e-05:  (took 0.01562 seconds)\n",
      "Step 2400: 3.69416e-03, stepsizes = 3.9e-04/6.8e-06: d. reduced by 0.00% (7.5043e-08) (took 0.01562 seconds)\n",
      "Step 2500: 3.69048e-03, stepsizes = 2.6e-04/4.5e-06: d. reduced by 0.00% (3.3298e-08) (took 0.01562 seconds)\n",
      "Step 2600: 3.68769e-03, stepsizes = 2.6e-04/6.8e-06: d. reduced by 0.00% (3.3267e-08) (took 0.00000 seconds)\n",
      "Step 2700: 3.68486e-03, stepsizes = 2.6e-04/6.8e-06:  (took 0.01562 seconds)\n",
      "Step 2800: 3.68342e-03, stepsizes = 1.2e-04/2.0e-06: d. reduced by 0.00% (1.4709e-08) (took 0.01562 seconds)\n",
      "Step 2900: 3.68246e-03, stepsizes = 7.7e-05/2.0e-06:  (took 0.01562 seconds)\n",
      "Step 3000: 3.68169e-03, stepsizes = 5.1e-05/8.9e-07: d. reduced by 0.00% (6.5479e-09) (took 0.00000 seconds)\n",
      "Step 3100: 3.68116e-03, stepsizes = 3.4e-05/5.9e-07: d. reduced by 0.00% (4.3545e-09) (took 0.01562 seconds)\n",
      "Step 3200: 3.68067e-03, stepsizes = 3.4e-05/8.9e-07: d. reduced by 0.00% (6.5373e-09) (took 0.01562 seconds)\n",
      "Step 3300: 3.68020e-03, stepsizes = 5.1e-05/8.9e-07: d. reduced by 0.00% (6.6073e-09) (took 0.00000 seconds)\n",
      "Step 3400: 3.67967e-03, stepsizes = 3.4e-05/8.9e-07: d. reduced by 0.00% (9.8984e-09) (took 0.00000 seconds)\n",
      "Step 3500: 3.67932e-03, stepsizes = 3.4e-05/5.9e-07: d. reduced by 0.00% (4.2257e-09) (took 0.01562 seconds)\n",
      "Step 3600: 3.67898e-03, stepsizes = 3.4e-05/5.9e-07:  (took 0.01562 seconds)\n",
      "Step 3700: 3.67872e-03, stepsizes = 2.3e-05/5.9e-07:  (took 0.01562 seconds)\n",
      "Step 3800: 3.67851e-03, stepsizes = 1.5e-05/2.6e-07: d. reduced by 0.00% (1.9245e-09) (took 0.01562 seconds)\n",
      "Step 3900: 3.67835e-03, stepsizes = 1.5e-05/4.0e-07: d. reduced by 0.00% (2.9266e-09) (took 0.01562 seconds)\n",
      "Step 4000: 3.67824e-03, stepsizes = 6.8e-06/1.8e-07:  (took 0.01562 seconds)\n",
      "Step 4070: 3.67821e-03, stepsizes = 3.0e-06/7.8e-08: \n",
      "Step 4100: 3.67821e-03, stepsizes = 5.9e-04/5.9e-04:  (took 0.01562 seconds)\n",
      "Step 4176: 3.67821e-03, stepsizes = 5.9e-07/7.8e-08: \n",
      "Step 4177: 3.67821e-03, stepsizes = 5.9e-07/7.8e-08: \n",
      "Step 4178: 3.67821e-03, stepsizes = 5.9e-07/7.8e-08: \n",
      "Step 4179: 3.67821e-03, stepsizes = 5.9e-07/7.8e-08: \n",
      "Step 4180: 3.67821e-03, stepsizes = 4.0e-07/5.2e-08: \n",
      "Step 4181: 3.67821e-03, stepsizes = 4.0e-07/5.2e-08: \n",
      "Step 4182: 3.67821e-03, stepsizes = 4.0e-07/5.2e-08: \n",
      "Step 4183: 3.67821e-03, stepsizes = 4.0e-07/5.2e-08: \n",
      "Step 4184: 3.67821e-03, stepsizes = 2.6e-07/3.5e-08: \n",
      "Step 4185: 3.67821e-03, stepsizes = 2.6e-07/3.5e-08: \n",
      "Step 4186: 3.67821e-03, stepsizes = 2.6e-07/3.5e-08: \n",
      "Step 4187: 3.67821e-03, stepsizes = 2.6e-07/3.5e-08: \n",
      "Step 4188: 3.67821e-03, stepsizes = 1.8e-07/2.3e-08: \n",
      "Step 4189: 3.67821e-03, stepsizes = 1.8e-07/2.3e-08: \n",
      "Step 4190: 3.67821e-03, stepsizes = 1.8e-07/2.3e-08: \n",
      "Step 4191: 3.67821e-03, stepsizes = 1.8e-07/2.3e-08: \n",
      "Step 4192: 3.67821e-03, stepsizes = 1.2e-07/1.0e-08: \n",
      "Step 4193: 3.67821e-03, stepsizes = 1.2e-07/1.0e-08: \n",
      "Step 4194: 3.67821e-03, stepsizes = 1.2e-07/1.0e-08: \n",
      "Step 4195: 3.67821e-03, stepsizes = 1.2e-07/1.0e-08: \n",
      "Step 4196: 3.67821e-03, stepsizes = 7.8e-08/6.9e-09: \n",
      "Step 4197: 3.67821e-03, stepsizes = 7.8e-08/6.9e-09: \n",
      "Step 4198: 3.67821e-03, stepsizes = 7.8e-08/6.9e-09: \n",
      "Step 4199: 3.67821e-03, stepsizes = 7.8e-08/6.9e-09: \n",
      "Step 4200: 3.67821e-03, stepsizes = 5.2e-08/4.6e-09:  (took 0.01562 seconds)\n",
      "Step 4200: 3.67821e-03, stepsizes = 5.2e-08/4.6e-09: \n",
      "Step 4201: 3.67821e-03, stepsizes = 5.2e-08/4.6e-09: \n",
      "Step 4202: 3.67821e-03, stepsizes = 5.2e-08/4.6e-09: \n",
      "Step 4203: 3.67821e-03, stepsizes = 5.2e-08/4.6e-09: \n",
      "Step 4204: 3.67821e-03, stepsizes = 3.5e-08/3.1e-09: \n",
      "Step 4205: 3.67821e-03, stepsizes = 3.5e-08/3.1e-09: \n",
      "Step 4206: 3.67821e-03, stepsizes = 3.5e-08/3.1e-09: \n",
      "Step 4207: 3.67821e-03, stepsizes = 3.5e-08/3.1e-09: \n",
      "Step 4208: 3.67821e-03, stepsizes = 2.3e-08/2.0e-09: \n",
      "Step 4209: 3.67821e-03, stepsizes = 2.3e-08/2.0e-09: \n",
      "Step 4210: 3.67821e-03, stepsizes = 2.3e-08/2.0e-09: \n",
      "Step 4211: 3.67821e-03, stepsizes = 2.3e-08/2.0e-09: \n",
      "Step 4212: 3.67821e-03, stepsizes = 1.5e-08/1.4e-09: \n",
      "Step 4213: 3.67821e-03, stepsizes = 1.5e-08/1.4e-09: \n",
      "Step 4214: 3.67821e-03, stepsizes = 1.5e-08/1.4e-09: \n",
      "Step 4215: 3.67821e-03, stepsizes = 1.5e-08/1.4e-09: \n",
      "Step 4216: 3.67821e-03, stepsizes = 1.0e-08/9.0e-10: \n",
      "Step 4217: 3.67821e-03, stepsizes = 1.0e-08/9.0e-10: \n",
      "Step 4218: 3.67821e-03, stepsizes = 1.0e-08/9.0e-10: \n",
      "Step 4219: 3.67821e-03, stepsizes = 1.0e-08/9.0e-10: \n",
      "Step 4220: 3.67821e-03, stepsizes = 6.9e-09/6.0e-10: \n",
      "Step 4221: 3.67821e-03, stepsizes = 6.9e-09/6.0e-10: \n",
      "Step 4222: 3.67821e-03, stepsizes = 6.9e-09/6.0e-10: \n",
      "Step 4223: 3.67821e-03, stepsizes = 6.9e-09/6.0e-10: \n",
      "Step 4224: 3.67821e-03, stepsizes = 4.6e-09/4.0e-10: \n",
      "Step 4225: 3.67821e-03, stepsizes = 4.6e-09/4.0e-10: \n",
      "Step 4226: 3.67821e-03, stepsizes = 4.6e-09/4.0e-10: \n",
      "Step 4227: 3.67821e-03, stepsizes = 4.6e-09/4.0e-10: \n",
      "Step 4228: 3.67821e-03, stepsizes = 3.1e-09/2.7e-10: \n",
      "Step 4229: 3.67821e-03, stepsizes = 3.1e-09/2.7e-10: \n",
      "Step 4230: 3.67821e-03, stepsizes = 3.1e-09/2.7e-10: \n",
      "Step 4231: 3.67821e-03, stepsizes = 3.1e-09/2.7e-10: \n",
      "Step 4232: 3.67821e-03, stepsizes = 2.0e-09/1.8e-10: \n",
      "Step 4233: 3.67821e-03, stepsizes = 2.0e-09/1.8e-10: \n",
      "Step 4234: 3.67821e-03, stepsizes = 2.0e-09/1.8e-10: \n",
      "Step 4235: 3.67821e-03, stepsizes = 2.0e-09/1.8e-10: \n",
      "Step 4236: 3.67821e-03, stepsizes = 1.4e-09/1.8e-10: \n",
      "Step 4237: 3.67821e-03, stepsizes = 1.4e-09/1.8e-10: \n",
      "Step 4238: 3.67821e-03, stepsizes = 1.4e-09/1.8e-10: \n",
      "Step 4239: 3.67821e-03, stepsizes = 1.4e-09/1.8e-10: \n",
      "Step 4240: 3.67821e-03, stepsizes = 9.0e-10/1.2e-10: \n",
      "Step 4241: 3.67821e-03, stepsizes = 9.0e-10/1.2e-10: \n",
      "Step 4242: 3.67821e-03, stepsizes = 9.0e-10/1.2e-10: \n",
      "Step 4243: 3.67821e-03, stepsizes = 9.0e-10/1.2e-10: \n",
      "Step 4244: 3.67821e-03, stepsizes = 6.0e-10/7.9e-11: \n",
      "Step 4245: 3.67821e-03, stepsizes = 6.0e-10/7.9e-11: \n",
      "Step 4246: 3.67821e-03, stepsizes = 6.0e-10/1.2e-10: \n",
      "Step 4247: 3.67821e-03, stepsizes = 6.0e-10/1.2e-10: \n",
      "Step 4248: 3.67821e-03, stepsizes = 4.0e-10/7.9e-11: \n",
      "Step 4249: 3.67821e-03, stepsizes = 4.0e-10/7.9e-11: \n",
      "Step 4250: 3.67821e-03, stepsizes = 4.0e-10/7.9e-11: \n",
      "Step 4251: 3.67821e-03, stepsizes = 4.0e-10/7.9e-11: \n"
     ]
    },
    {
     "name": "stdout",
     "output_type": "stream",
     "text": [
      "Step 4252: 3.67821e-03, stepsizes = 2.7e-10/5.3e-11: \n",
      "Step 4253: 3.67821e-03, stepsizes = 2.7e-10/5.3e-11: \n",
      "Step 4254: 3.67821e-03, stepsizes = 2.7e-10/5.3e-11: \n",
      "Step 4255: 3.67821e-03, stepsizes = 2.7e-10/5.3e-11: \n",
      "Step 4256: 3.67821e-03, stepsizes = 1.8e-10/3.5e-11: \n",
      "Step 4257: 3.67821e-03, stepsizes = 1.8e-10/3.5e-11: \n",
      "Step 4258: 3.67821e-03, stepsizes = 1.8e-10/3.5e-11: \n",
      "Step 4259: 3.67821e-03, stepsizes = 1.8e-10/3.5e-11: \n",
      "Step 4260: 3.67821e-03, stepsizes = 1.2e-10/2.4e-11: \n",
      "Step 4261: 3.67821e-03, stepsizes = 1.2e-10/2.4e-11: \n",
      "Step 4262: 3.67821e-03, stepsizes = 1.2e-10/2.4e-11: \n",
      "Step 4263: 3.67821e-03, stepsizes = 1.2e-10/2.4e-11: \n",
      "Step 4264: 3.67821e-03, stepsizes = 7.9e-11/1.6e-11: \n",
      "Step 4265: 3.67821e-03, stepsizes = 7.9e-11/1.6e-11: \n",
      "Step 4266: 3.67821e-03, stepsizes = 7.9e-11/1.6e-11: \n",
      "Step 4267: 3.67821e-03, stepsizes = 7.9e-11/1.6e-11: \n",
      "Step 4268: 3.67821e-03, stepsizes = 5.3e-11/1.0e-11: \n",
      "Step 4269: 3.67821e-03, stepsizes = 5.3e-11/1.0e-11: \n",
      "Step 4270: 3.67821e-03, stepsizes = 5.3e-11/1.0e-11: \n",
      "Step 4271: 3.67821e-03, stepsizes = 5.3e-11/1.0e-11: \n",
      "Step 4272: 3.67821e-03, stepsizes = 3.5e-11/7.0e-12: \n",
      "Step 4273: 3.67821e-03, stepsizes = 3.5e-11/7.0e-12: \n",
      "Step 4274: 3.67821e-03, stepsizes = 3.5e-11/7.0e-12: \n",
      "Step 4275: 3.67821e-03, stepsizes = 3.5e-11/7.0e-12: \n"
     ]
    },
    {
     "data": {
      "image/png": "[encoded data removed]",
      "text/plain": [
       "<Figure size 864x432 with 2 Axes>"
      ]
     },
     "metadata": {
      "needs_background": "light"
     },
     "output_type": "display_data"
    },
    {
     "name": "stdout",
     "output_type": "stream",
     "text": [
      "Original prediction:  6\n",
      "Adversary prediction:  8\n"
     ]
    }
   ],
   "source": [
    "i=4934\n",
    "\n",
    "# generate adversarial image\n",
    "x_adv = attack(\n",
    "    input_or_adv=x_train[i],  # original image\n",
    "    label = y_train[i],       # original label\n",
    "    unpack = True,            # return adversarial image\n",
    "    iterations = 6000,        # max iterations of algo\n",
    "    log_every_n_steps = 100,  # print every 100 iters\n",
    "    threaded_rnd = True,      # multithread random num gen\n",
    "    threaded_gen = True       # multithread point generation\n",
    ")\n",
    "\n",
    "# display results\n",
    "f, (ax1, ax2) = plt.subplots(1, 2, figsize=(12, 6))\n",
    "ax1.imshow(x_train[i].reshape(28,28), cmap=cm.binary)\n",
    "ax2.imshow(np.array(x_adv).reshape(28,28), cmap=cm.binary)\n",
    "plt.show()\n",
    "\n",
    "print(\"Original prediction:  %d\" % fb_model.predictions(x_train[i]).argmax())\n",
    "print(\"Adversary prediction:  %d\" % fb_model.predictions(x_adv).argmax())"
   ]
  }
 ],
 "metadata": {
  "kernelspec": {
   "display_name": "Python 3",
   "language": "python",
   "name": "python3"
  },
  "language_info": {
   "codemirror_mode": {
    "name": "ipython",
    "version": 3
   },
   "file_extension": ".py",
   "mimetype": "text/x-python",
   "name": "python",
   "nbconvert_exporter": "python",
   "pygments_lexer": "ipython3",
   "version": "3.7.1"
  }
 },
 "nbformat": 4,
 "nbformat_minor": 2
}
